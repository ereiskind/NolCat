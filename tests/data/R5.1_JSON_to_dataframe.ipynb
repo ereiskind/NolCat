{
 "cells": [
  {
   "cell_type": "markdown",
   "metadata": {},
   "source": [
    "# Create Dataframe from JSON\n",
    "A notebook for creating OpenRefine procedures that change R5.1 JSONs into dataframes for use in testing."
   ]
  }
 ],
 "metadata": {
  "language_info": {
   "name": "python"
  }
 },
 "nbformat": 4,
 "nbformat_minor": 2
}
